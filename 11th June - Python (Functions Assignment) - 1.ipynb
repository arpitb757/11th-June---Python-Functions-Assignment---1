{
 "cells": [
  {
   "cell_type": "markdown",
   "id": "c27ad402",
   "metadata": {},
   "source": [
    "Answer for Q.1. :- \n",
    "\n",
    "A lambda function in Python is an anonymous function, which means it is a function without a name. It is defined using the lambda keyword, followed by a list of arguments, a colon, and an expression. Lambda functions are typically used for simple and concise functions that are not expected to be reused.\n",
    "The main difference between a lambda function and a regular function is that a lambda function can only consist of a single expression, whereas a regular function can contain multiple statements and have a proper function name.\n"
   ]
  },
  {
   "cell_type": "markdown",
   "id": "2d145b20",
   "metadata": {},
   "source": [
    "Answer for Q.2. :- \n",
    "    \n",
    "Yes, a lambda function in Python can have multiple arguments. You can define and use them by separating the arguments with commas after the lambda keyword. Here's an example:\n",
    "\n",
    "addition = lambda a, b: a + b\n",
    "result = addition(3, 5)\n",
    "print(result)  # Output: 8\n",
    "\n",
    "In the above example, the lambda function takes two arguments a and b and returns their sum."
   ]
  },
  {
   "cell_type": "markdown",
   "id": "329255d5",
   "metadata": {},
   "source": [
    "Answer for Q.3. :-\n",
    "    \n",
    "Lambda functions are typically used in Python when you need a small, one-time function without the need for a formal function definition. They are often used as arguments to higher-order functions like map(), filter(), and reduce(). Lambda functions are useful in scenarios where you need a short and concise function definition for simple operations.\n",
    "One example use case is filtering a list based on a specific condition. Here's an example using the filter() function with a lambda function to filter out even numbers from a list:\n",
    "\n",
    "numbers = [1, 2, 3, 4, 5, 6, 7, 8, 9, 10]\n",
    "even_numbers = list(filter(lambda x: x % 2 == 0, numbers))\n",
    "print(even_numbers)  # Output: [2, 4, 6, 8, 10]"
   ]
  },
  {
   "cell_type": "markdown",
   "id": "66d24539",
   "metadata": {},
   "source": [
    "Answer for Q.4. :-\n",
    "\n",
    "Advantages of lambda functions compared to regular functions:\n",
    "\n",
    "Concise syntax: Lambda functions allow you to define simple functions in a more compact and readable manner, without the need for a formal function definition.\n",
    "Anonymous: Lambda functions are anonymous, meaning they don't require a name, which can be useful for one-time use cases or as arguments to higher-order functions.\n",
    "\n",
    "Limitations of lambda functions compared to regular functions:\n",
    "\n",
    "Single expression: Lambda functions can only consist of a single expression, which limits their complexity compared to regular functions.\n",
    "No statements: Lambda functions cannot contain statements like assignments or loops, only expressions.\n",
    "Limited functionality: Due to their simplicity, lambda functions are not suitable for complex logic or operations that require multiple statements."
   ]
  },
  {
   "cell_type": "markdown",
   "id": "d01cd3ef",
   "metadata": {},
   "source": [
    "Answer for Q.5. :-\n",
    "    \n",
    "Yes, lambda functions in Python can access variables defined outside of their own scope. These variables are accessed through lexical scoping or closures. Here's an example:\n",
    "\n",
    "def outer_function():\n",
    "    x = 10\n",
    "    return lambda y: x + y\n",
    "\n",
    "closure = outer_function()\n",
    "result = closure(5)\n",
    "print(result)  # Output: 15\n",
    "\n",
    "In the above example, the lambda function accesses the variable x from its outer scope, even though the lambda function itself is defined outside of that scope. The lambda function forms a closure over the variable x, preserving its value."
   ]
  },
  {
   "cell_type": "markdown",
   "id": "91c26381",
   "metadata": {},
   "source": [
    "Answer for Q.6. :-\n",
    "\n",
    "Lambda function to calculate the square of a given number:\n",
    "\n",
    "square = lambda x: x**2\n",
    "result = square(5)\n",
    "print(result)  # Output: 25"
   ]
  },
  {
   "cell_type": "markdown",
   "id": "3aed265f",
   "metadata": {},
   "source": [
    "Answer for Q.7. :-\n",
    "\n",
    "Lambda function to find the maximum value in a list of integers:\n",
    "\n",
    "numbers = [10, 5, 8, 20, 3]\n",
    "max_value = max(numbers, key=lambda x: x)\n",
    "print(max_value)  # Output: 20"
   ]
  },
  {
   "cell_type": "markdown",
   "id": "fe9aada9",
   "metadata": {},
   "source": [
    "Anwer for Q.8. :- \n",
    "\n",
    "Lambda function to filter out all the even numbers from a list of integers:\n",
    "\n",
    "numbers = [1, 2, 3, 4, 5, 6, 7, 8, 9, 10]\n",
    "even_numbers = list(filter(lambda x: x % 2 == 0, numbers))\n",
    "print(even_numbers)  # Output: [2, 4, 6, 8, 10]"
   ]
  },
  {
   "cell_type": "markdown",
   "id": "27c50f6e",
   "metadata": {},
   "source": [
    "Answer for Q.9. :-\n",
    "    \n",
    "Lambda function to sort a list of strings in ascending order based on the length of each string:\n",
    "\n",
    "strings = ['apple', 'banana', 'cherry', 'date']\n",
    "sorted_strings = sorted(strings, key=lambda x: len(x))\n",
    "print(sorted_strings)  # Output: ['date', 'apple', 'cherry', 'banana']"
   ]
  },
  {
   "cell_type": "markdown",
   "id": "a815979c",
   "metadata": {},
   "source": [
    "Answer for Q.10. :-\n",
    "\n",
    "Lambda function that returns a new list containing the common elements between two lists:\n",
    "\n",
    "list1 = [1, 2, 3, 4, 5]\n",
    "list2 = [4, 5, 6, 7, 8]\n",
    "common_elements = list(filter(lambda x: x in list2, list1))\n",
    "print(common_elements)  # Output: [4, 5]"
   ]
  },
  {
   "cell_type": "markdown",
   "id": "a4b09bbf",
   "metadata": {},
   "source": [
    "Answer for Q.11. :-\n",
    "    \n",
    "Recursive function to calculate the factorial of a given positive integer:\n",
    "\n",
    "def factorial(n):\n",
    "    if n == 0:\n",
    "        return 1\n",
    "    else:\n",
    "        return n * factorial(n - 1)\n",
    "\n",
    "result = factorial(5)\n",
    "print(result)  # Output: 120  "
   ]
  },
  {
   "cell_type": "markdown",
   "id": "8e580fdc",
   "metadata": {},
   "source": [
    "Answer for Q.12. :-\n",
    "\n",
    "Recursive function to compute the nth Fibonacci number:\n",
    "python\n",
    "Copy code\n",
    "def fibonacci(n):\n",
    "    if n <= 1:\n",
    "        return n\n",
    "    else:\n",
    "        return fibonacci(n - 1) + fibonacci(n - 2)\n",
    "\n",
    "result = fibonacci(6)\n",
    "print(result)  # Output: 8"
   ]
  },
  {
   "cell_type": "markdown",
   "id": "f19a28fd",
   "metadata": {},
   "source": [
    "Answer for Q.13. :-\n",
    "\n",
    "Recursive function to find the sum of all the elements in a given list:\n",
    "\n",
    "def sum_list(lst):\n",
    "    if not lst:\n",
    "        return 0\n",
    "    else:\n",
    "        return lst[0] + sum_list(lst[1:])\n",
    "\n",
    "numbers = [1, 2, 3, 4, 5]\n",
    "result = sum_list(numbers)\n",
    "print(result)  # Output: 15"
   ]
  },
  {
   "cell_type": "markdown",
   "id": "08bccf09",
   "metadata": {},
   "source": [
    "Answer for Q.14. :-\n",
    "\n",
    "Recursive function to determine whether a given string is a palindrome:\n",
    "\n",
    "def is_palindrome(string):\n",
    "    if len(string) <= 1:\n",
    "        return True\n",
    "    else:\n",
    "        return string[0] == string[-1] and is_palindrome(string[1:-1])\n",
    "\n",
    "word = \"radar\"\n",
    "result = is_palindrome(word)\n",
    "print(result)  # Output: True"
   ]
  },
  {
   "cell_type": "markdown",
   "id": "5725a454",
   "metadata": {},
   "source": [
    "Answer for Q.15. :-\n",
    "\n",
    "Recursive function to find the greatest common divisor (GCD) of two positive integers:\n",
    "\n",
    "def gcd(a, b):\n",
    "    if b == 0:\n",
    "        return a\n",
    "    else:\n",
    "        return gcd(b, a % b)\n",
    "\n",
    "result = gcd(48, 60)\n",
    "print(result)  # Output: 12"
   ]
  }
 ],
 "metadata": {
  "kernelspec": {
   "display_name": "Python 3",
   "language": "python",
   "name": "python3"
  },
  "language_info": {
   "codemirror_mode": {
    "name": "ipython",
    "version": 3
   },
   "file_extension": ".py",
   "mimetype": "text/x-python",
   "name": "python",
   "nbconvert_exporter": "python",
   "pygments_lexer": "ipython3",
   "version": "3.8.8"
  }
 },
 "nbformat": 4,
 "nbformat_minor": 5
}
